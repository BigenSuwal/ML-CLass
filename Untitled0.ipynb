{
  "nbformat": 4,
  "nbformat_minor": 0,
  "metadata": {
    "colab": {
      "provenance": []
    },
    "kernelspec": {
      "name": "python3",
      "display_name": "Python 3"
    },
    "language_info": {
      "name": "python"
    }
  },
  "cells": [
    {
      "cell_type": "code",
      "source": [
        "# Let's learn about the print statements\n",
        "print(\"Let's learn python for Machine Learning\")"
      ],
      "metadata": {
        "colab": {
          "base_uri": "https://localhost:8080/"
        },
        "id": "0bPlNdJsPwM7",
        "outputId": "8103154c-f9f2-4b44-dd7b-7ab7a8dfb0fe"
      },
      "execution_count": null,
      "outputs": [
        {
          "output_type": "stream",
          "name": "stdout",
          "text": [
            "Let's learn python for Machine Learning\n"
          ]
        }
      ]
    },
    {
      "cell_type": "code",
      "execution_count": null,
      "metadata": {
        "colab": {
          "base_uri": "https://localhost:8080/"
        },
        "id": "pakmC3SdPOcD",
        "outputId": "3d4c96dd-9965-437e-c861-417602ae92fd"
      },
      "outputs": [
        {
          "output_type": "stream",
          "name": "stdout",
          "text": [
            "16\n",
            "Arman\n"
          ]
        }
      ],
      "source": [
        "# let's create two variables and print them\n",
        "x=16\n",
        "y=\"Arman\"\n",
        "print(x)\n",
        "print(y)\n"
      ]
    },
    {
      "cell_type": "code",
      "source": [
        "#let's print the statement with string formatting\n",
        "print(f\"{y} is {x} years old.\")"
      ],
      "metadata": {
        "colab": {
          "base_uri": "https://localhost:8080/"
        },
        "id": "CdrzioKXRAHE",
        "outputId": "028d7d7c-e3b2-4a12-f661-cd0604a66bcb"
      },
      "execution_count": null,
      "outputs": [
        {
          "output_type": "stream",
          "name": "stdout",
          "text": [
            "Arman is 16 years old.\n"
          ]
        }
      ]
    },
    {
      "cell_type": "code",
      "source": [
        "# Using format method\n",
        "print(\"{} is {} years old.\" .format(y,x))"
      ],
      "metadata": {
        "colab": {
          "base_uri": "https://localhost:8080/"
        },
        "id": "10QNk_P3Rku8",
        "outputId": "7c6926c1-ce23-4df3-ef68-699ae15f7916"
      },
      "execution_count": null,
      "outputs": [
        {
          "output_type": "stream",
          "name": "stdout",
          "text": [
            "Arman is 16 years old.\n"
          ]
        }
      ]
    },
    {
      "cell_type": "code",
      "source": [
        "# Using Concatenation method.\n",
        "print(y + \"is \" + str(x) + \" years old.\")"
      ],
      "metadata": {
        "colab": {
          "base_uri": "https://localhost:8080/"
        },
        "id": "DKaWHq9yR_33",
        "outputId": "55eae35c-13e4-4e7a-9fff-a295da17b409"
      },
      "execution_count": null,
      "outputs": [
        {
          "output_type": "stream",
          "name": "stdout",
          "text": [
            "Armanis 16 years old.\n"
          ]
        }
      ]
    },
    {
      "cell_type": "code",
      "source": [
        "# Using older % string formatting method\n",
        "print(\"%s is %d years old.\" %(y,x))"
      ],
      "metadata": {
        "colab": {
          "base_uri": "https://localhost:8080/"
        },
        "id": "wQn7HBKqSjH7",
        "outputId": "843b5802-ca7a-4d76-febb-ffc0805857fc"
      },
      "execution_count": null,
      "outputs": [
        {
          "output_type": "stream",
          "name": "stdout",
          "text": [
            "Arman is 16 years old.\n"
          ]
        }
      ]
    },
    {
      "cell_type": "code",
      "source": [
        "x"
      ],
      "metadata": {
        "colab": {
          "base_uri": "https://localhost:8080/"
        },
        "id": "M0en88EVS-7J",
        "outputId": "940267ef-796a-4b6d-db41-fe5766e8aa93"
      },
      "execution_count": null,
      "outputs": [
        {
          "output_type": "execute_result",
          "data": {
            "text/plain": [
              "16"
            ]
          },
          "metadata": {},
          "execution_count": 9
        }
      ]
    },
    {
      "cell_type": "code",
      "source": [
        "y"
      ],
      "metadata": {
        "colab": {
          "base_uri": "https://localhost:8080/",
          "height": 36
        },
        "id": "EOZr-Vg3TLv3",
        "outputId": "fcb2931a-7115-4826-c5d2-c06a28b88287"
      },
      "execution_count": null,
      "outputs": [
        {
          "output_type": "execute_result",
          "data": {
            "text/plain": [
              "'Arman'"
            ],
            "application/vnd.google.colaboratory.intrinsic+json": {
              "type": "string"
            }
          },
          "metadata": {},
          "execution_count": 10
        }
      ]
    },
    {
      "cell_type": "markdown",
      "source": [
        "2. Data Types\n",
        "\n",
        "\n",
        "> Numbers\n",
        "\n",
        "\n",
        "\n",
        "\n",
        "\n"
      ],
      "metadata": {
        "id": "aHqopCFbTVQH"
      }
    },
    {
      "cell_type": "code",
      "source": [
        "# working with numbers\n",
        "x = 20\n",
        "y = 10\n",
        "print(x+y)\n",
        "print(x-y)\n",
        "print(x*y)\n",
        "print(x/y)\n",
        "print(x%y)\n",
        "print(x**y)"
      ],
      "metadata": {
        "colab": {
          "base_uri": "https://localhost:8080/"
        },
        "id": "ZV3VIY-MTO8m",
        "outputId": "5d520e65-cb6f-4e96-b580-f5bd3fe66c3e"
      },
      "execution_count": null,
      "outputs": [
        {
          "output_type": "stream",
          "name": "stdout",
          "text": [
            "30\n",
            "10\n",
            "200\n",
            "2.0\n",
            "0\n",
            "10240000000000\n"
          ]
        }
      ]
    },
    {
      "cell_type": "code",
      "source": [
        "print(f\"The addition of x and y is {x+y}.\")\n",
        "print(f\"The subtraction of x and y is {x-y}.\")\n",
        "print(f\"The multiplication of x and y is {x*y}.\")\n",
        "print(f\"The division of x and y is {x/y}.\")\n",
        "print(f\"The reminder of x and y is {y%x}.\")"
      ],
      "metadata": {
        "colab": {
          "base_uri": "https://localhost:8080/"
        },
        "id": "Xve660bCUEyt",
        "outputId": "b20d77b7-bec9-4038-d495-f088c028e570"
      },
      "execution_count": null,
      "outputs": [
        {
          "output_type": "stream",
          "name": "stdout",
          "text": [
            "The addition of x and y is 30.\n",
            "The subtraction of x and y is 10.\n",
            "The multiplication of x and y is 200.\n",
            "The division of x and y is 2.0.\n",
            "The reminder of x and y is 10.\n"
          ]
        }
      ]
    },
    {
      "cell_type": "markdown",
      "source": [
        "\n",
        "2.2. string\n"
      ],
      "metadata": {
        "id": "YMA70ehiVnPp"
      }
    },
    {
      "cell_type": "code",
      "source": [
        "\n",
        "# working with single quoted string\n",
        "single_quoted_string = 'python is awesome !'\n",
        "print(\"single_quoted_string =\", single_quoted_string)\n",
        "\n"
      ],
      "metadata": {
        "colab": {
          "base_uri": "https://localhost:8080/"
        },
        "id": "G18vdv6nUcbI",
        "outputId": "786cf8ea-c086-427a-cdac-a618d9a26d1f"
      },
      "execution_count": null,
      "outputs": [
        {
          "output_type": "stream",
          "name": "stdout",
          "text": [
            "single_quoted_string = python is awesome !\n"
          ]
        }
      ]
    },
    {
      "cell_type": "code",
      "source": [
        "# Working with double quoted string\n",
        "double_quoted_string = \"I am learning python !\"\n",
        "print(\"double_quoted_string =\", double_quoted_string)"
      ],
      "metadata": {
        "colab": {
          "base_uri": "https://localhost:8080/"
        },
        "id": "2qdoLZfMWtkA",
        "outputId": "3fcac5c9-4703-4582-94ad-95f2647f1e6e"
      },
      "execution_count": null,
      "outputs": [
        {
          "output_type": "stream",
          "name": "stdout",
          "text": [
            "double_quoted_string = I am learning python !\n"
          ]
        }
      ]
    },
    {
      "cell_type": "code",
      "source": [
        "\n",
        "#string Concatentation\n",
        "Concatenation_string = single_quoted_string + '.' + double_quoted_string\n",
        "print(\"Concatenation_string =\", Concatenation_string)"
      ],
      "metadata": {
        "colab": {
          "base_uri": "https://localhost:8080/"
        },
        "id": "DG5-IKx0W_Gv",
        "outputId": "8821116d-45a8-49b7-c04f-4a9c7e0430d8"
      },
      "execution_count": null,
      "outputs": [
        {
          "output_type": "stream",
          "name": "stdout",
          "text": [
            "Concatenation_string = python is awesome !.I am learning python !\n"
          ]
        }
      ]
    },
    {
      "cell_type": "code",
      "source": [
        "#String Methods\n",
        "uppercase_string = Concatenation_string.upper()\n",
        "print(uppercase_string )\n",
        "lowercase_string = uppercase_string.lower()\n",
        "print(lowercase_string)"
      ],
      "metadata": {
        "colab": {
          "base_uri": "https://localhost:8080/"
        },
        "id": "N89JVvycXZ6E",
        "outputId": "3159d054-24ee-4b81-e189-568582c72156"
      },
      "execution_count": null,
      "outputs": [
        {
          "output_type": "stream",
          "name": "stdout",
          "text": [
            "PYTHON IS AWESOME !.I AM LEARNING PYTHON !\n",
            "python is awesome !.i am learning python !\n"
          ]
        }
      ]
    },
    {
      "cell_type": "code",
      "source": [
        "#string Slicing examples\n",
        "word = \"sunderland University\"\n",
        "slice_word = word[4:10]\n",
        "print(slice_word)"
      ],
      "metadata": {
        "id": "y8-13EdSX5_8",
        "colab": {
          "base_uri": "https://localhost:8080/"
        },
        "outputId": "c6c14071-5c8a-4051-99aa-194f9269c359"
      },
      "execution_count": null,
      "outputs": [
        {
          "output_type": "stream",
          "name": "stdout",
          "text": [
            "erland\n"
          ]
        }
      ]
    },
    {
      "cell_type": "code",
      "source": [
        "# Remove leading and trailing spaces\n",
        "word_space = \"sunderland University\"\n",
        "print(word_space)\n",
        "remove_space = word_space.strip()\n",
        "print(remove_space)"
      ],
      "metadata": {
        "colab": {
          "base_uri": "https://localhost:8080/"
        },
        "id": "asKlJGKYXLhR",
        "outputId": "5c7954fb-d9f2-4fc3-d3d2-902122172b9a"
      },
      "execution_count": null,
      "outputs": [
        {
          "output_type": "stream",
          "name": "stdout",
          "text": [
            "sunderland University\n",
            "sunderland University\n"
          ]
        }
      ]
    },
    {
      "cell_type": "code",
      "source": [
        "word_list = {\"linux\",\"kali\",\"is\",\"used\",\"for\",\"learning\"}\n",
        "sentence = \" \".join(word_list)\n",
        "print(sentence)\n"
      ],
      "metadata": {
        "colab": {
          "base_uri": "https://localhost:8080/"
        },
        "id": "KADVOUpFXjyy",
        "outputId": "83a87ebb-8c6f-496b-d5c4-042776389bf2"
      },
      "execution_count": null,
      "outputs": [
        {
          "output_type": "stream",
          "name": "stdout",
          "text": [
            "linux is kali used for learning\n"
          ]
        }
      ]
    },
    {
      "cell_type": "code",
      "source": [
        "word_list = {\"linux\",\"kali\",\"is\",\"used\",\"for\",\"learning\"}\n",
        "print (\"word list id :\" ,word_list)\n",
        "sentence = \" \".join(word_list)\n",
        "print(\"complete Sentence is:\", sentence)"
      ],
      "metadata": {
        "colab": {
          "base_uri": "https://localhost:8080/"
        },
        "id": "RmYgBWMKYkvI",
        "outputId": "42c567d3-bcb0-47e6-e429-eb1ff7fdb8b3"
      },
      "execution_count": null,
      "outputs": [
        {
          "output_type": "stream",
          "name": "stdout",
          "text": [
            "word list id : {'linux', 'is', 'kali', 'used', 'for', 'learning'}\n",
            "complete Sentence is: linux is kali used for learning\n"
          ]
        }
      ]
    },
    {
      "cell_type": "code",
      "source": [
        "# Replace the word in sentence\n",
        "replaced_string = sentence.replace(\"learning\",\"programming\")\n",
        "print(\"Replaced String:\", replaced_string)"
      ],
      "metadata": {
        "colab": {
          "base_uri": "https://localhost:8080/"
        },
        "id": "Q3Y-0ZhkY_U8",
        "outputId": "ae0f3305-f44f-48d4-a49a-f7161d0851d7"
      },
      "execution_count": null,
      "outputs": [
        {
          "output_type": "stream",
          "name": "stdout",
          "text": [
            "Replaced String: linux is kali used for programming\n"
          ]
        }
      ]
    },
    {
      "cell_type": "code",
      "source": [
        "word_list = \"hello, word\"\n",
        "replaced_string = word_list.replace(\"hello\",\"hi\")\n",
        "print(\"Replaced String:\", replaced_string)"
      ],
      "metadata": {
        "colab": {
          "base_uri": "https://localhost:8080/"
        },
        "id": "V35NlR2cZfu1",
        "outputId": "e3e1c1e7-c13b-4636-9d8e-06f18cc59f3c"
      },
      "execution_count": null,
      "outputs": [
        {
          "output_type": "stream",
          "name": "stdout",
          "text": [
            "Replaced String: hi, word\n"
          ]
        }
      ]
    },
    {
      "cell_type": "code",
      "source": [
        "# find a word in a sentence\n",
        "word = \"python is awesome\"\n",
        "index = word.find(\"is\")\n",
        "print(\"Index of course:\",index)"
      ],
      "metadata": {
        "colab": {
          "base_uri": "https://localhost:8080/"
        },
        "id": "sQb3T2XkaBXS",
        "outputId": "7b532316-f9d8-45b4-85aa-eaf1ff2e399f"
      },
      "execution_count": null,
      "outputs": [
        {
          "output_type": "stream",
          "name": "stdout",
          "text": [
            "Index of course: 7\n"
          ]
        }
      ]
    },
    {
      "cell_type": "code",
      "source": [],
      "metadata": {
        "id": "w_6RhjbPar5Y"
      },
      "execution_count": null,
      "outputs": []
    },
    {
      "cell_type": "markdown",
      "source": [
        "2.3 List\n"
      ],
      "metadata": {
        "id": "ee18RyrUa3fa"
      }
    },
    {
      "cell_type": "code",
      "source": [
        "# creating a List\n",
        "fav_movie = [\"Adi purush\", \"The Godfather\",\"Animal\", \"The Dark Knight\"]\n",
        "print(fav_movie)"
      ],
      "metadata": {
        "colab": {
          "base_uri": "https://localhost:8080/"
        },
        "id": "M_OBfscqbCu2",
        "outputId": "2ee0aa93-20f3-4552-90ee-c6280109e358"
      },
      "execution_count": null,
      "outputs": [
        {
          "output_type": "stream",
          "name": "stdout",
          "text": [
            "['Adi purush', 'The Godfather', 'Animal', 'The Dark Knight']\n"
          ]
        }
      ]
    },
    {
      "cell_type": "code",
      "source": [
        "# Accessing the element of List\n",
        "print(\"Pramit Fav Movie is:\", fav_movie[0])\n",
        "print(fav_movie[1])\n",
        "print(\"Bata Fav Movie is:\", fav_movie[-1])"
      ],
      "metadata": {
        "colab": {
          "base_uri": "https://localhost:8080/"
        },
        "id": "aLpNxwVjbbjp",
        "outputId": "c6fb1c2e-3ef4-488e-9d4a-e8e07cbf27ec"
      },
      "execution_count": null,
      "outputs": [
        {
          "output_type": "stream",
          "name": "stdout",
          "text": [
            "Pramit Fav Movie is: Adi purush\n",
            "The Godfather\n",
            "Bata Fav Movie is: The Dark Knight\n"
          ]
        }
      ]
    },
    {
      "cell_type": "code",
      "source": [
        "# Find the length of list\n",
        "print(\"The Length of String is:\", len(fav_movie))"
      ],
      "metadata": {
        "colab": {
          "base_uri": "https://localhost:8080/"
        },
        "id": "PFFzEN-IcIUe",
        "outputId": "783244d8-b5be-49f2-d830-9aa226fe3440"
      },
      "execution_count": null,
      "outputs": [
        {
          "output_type": "stream",
          "name": "stdout",
          "text": [
            "The Length of String is: 4\n"
          ]
        }
      ]
    },
    {
      "cell_type": "code",
      "source": [
        "# List can contain hetrogeneous data types\n",
        "List1 = {\"apple\", \"banana\", \"cherry\"}\n",
        "List2 = [1, 5, 7, 9, 3]\n",
        "List3 = [True, False, False]\n",
        "list4 = [\"abc\", 34, True, 5, \"cherry\"]\n",
        "print(List1)\n",
        "print(List2)\n",
        "print(List3)\n",
        "print(list4)"
      ],
      "metadata": {
        "colab": {
          "base_uri": "https://localhost:8080/"
        },
        "id": "Kd2SK6dncpAN",
        "outputId": "ba1b006b-2299-431b-d257-cb57b368de55"
      },
      "execution_count": null,
      "outputs": [
        {
          "output_type": "stream",
          "name": "stdout",
          "text": [
            "{'banana', 'apple', 'cherry'}\n",
            "[1, 5, 7, 9, 3]\n",
            "[True, False, False]\n",
            "['abc', 34, True, 5, 'cherry']\n"
          ]
        }
      ]
    },
    {
      "cell_type": "code",
      "source": [
        "# Let's find the types of data types\n",
        "print(type(List1))\n"
      ],
      "metadata": {
        "colab": {
          "base_uri": "https://localhost:8080/"
        },
        "id": "xXUyfSPYdZx6",
        "outputId": "4628d44a-4a6a-4d28-a08c-384d9cb1525d"
      },
      "execution_count": null,
      "outputs": [
        {
          "output_type": "stream",
          "name": "stdout",
          "text": [
            "<class 'set'>\n"
          ]
        }
      ]
    },
    {
      "cell_type": "code",
      "source": [
        "# Nested List\n",
        "nested_list = [\"apple piece\", \"Lord of banana\", [\"cherry\", \"orange\"], \"mango\"]\n",
        "print(nested_list)\n",
        "print (\"Imdb rating lor:\", nested_list[2][1])"
      ],
      "metadata": {
        "colab": {
          "base_uri": "https://localhost:8080/"
        },
        "id": "q9KPI3gAdvQH",
        "outputId": "262ab4c6-17d8-4f6c-dd3c-47129443cfa6"
      },
      "execution_count": null,
      "outputs": [
        {
          "output_type": "stream",
          "name": "stdout",
          "text": [
            "['apple piece', 'Lord of banana', ['cherry', 'orange'], 'mango']\n",
            "Imdb rating lor: orange\n"
          ]
        }
      ]
    },
    {
      "cell_type": "code",
      "source": [],
      "metadata": {
        "id": "jjphBfHEeNlE"
      },
      "execution_count": null,
      "outputs": []
    },
    {
      "cell_type": "markdown",
      "source": [
        "2.4 Disctionary\n"
      ],
      "metadata": {
        "id": "RHE9uZYke4Ft"
      }
    },
    {
      "cell_type": "code",
      "source": [
        "# Creating a disctionary\n",
        "student = {\n",
        "  \"name\": \"Bigen\",\n",
        "  \"'Department\": \"Bsc.IT\",\n",
        "  \"year\": 2024\n",
        "}\n",
        "print(student)"
      ],
      "metadata": {
        "colab": {
          "base_uri": "https://localhost:8080/"
        },
        "id": "rv1xp1t7e8W7",
        "outputId": "088dd65e-781e-416f-bd51-db9236ee6122"
      },
      "execution_count": null,
      "outputs": [
        {
          "output_type": "stream",
          "name": "stdout",
          "text": [
            "{'name': 'Bigen', \"'Department\": 'Bsc.IT', 'year': 2024}\n"
          ]
        }
      ]
    },
    {
      "cell_type": "code",
      "source": [
        "# Accessing the disctionary items\n",
        "print(\"student's Name:\", student[\"name\"])"
      ],
      "metadata": {
        "colab": {
          "base_uri": "https://localhost:8080/"
        },
        "id": "LUCJH5_-fZCp",
        "outputId": "b8f965f2-ed5b-4877-b513-fa43bbea0de7"
      },
      "execution_count": null,
      "outputs": [
        {
          "output_type": "stream",
          "name": "stdout",
          "text": [
            "student's Name: Bigen\n"
          ]
        }
      ]
    },
    {
      "cell_type": "code",
      "source": [
        "# Adding a new element\n",
        "student[  \"Semester\"] = \"8th\"\n",
        "# Print the disctionary as a string\n",
        "print(repr( student))"
      ],
      "metadata": {
        "colab": {
          "base_uri": "https://localhost:8080/"
        },
        "id": "47pROISYfuQH",
        "outputId": "a44b4dfa-d508-4bcf-ad07-cb2f9fedf6ef"
      },
      "execution_count": null,
      "outputs": [
        {
          "output_type": "stream",
          "name": "stdout",
          "text": [
            "{'name': 'Bigen', \"'Department\": 'Bsc.IT', 'year': 2024, 'Semester': '8th'}\n"
          ]
        }
      ]
    },
    {
      "cell_type": "code",
      "source": [
        "# Modifing an existing item\n",
        "student[\"year\"] = 2023\n",
        "print(repr(student))"
      ],
      "metadata": {
        "colab": {
          "base_uri": "https://localhost:8080/"
        },
        "id": "yZ7vsdoKgYuF",
        "outputId": "f3794f63-70fd-4605-853a-86152f7aa5fa"
      },
      "execution_count": null,
      "outputs": [
        {
          "output_type": "stream",
          "name": "stdout",
          "text": [
            "{'name': 'Bigen', \"'Department\": 'Bsc.IT', 'year': 2023, 'Semester': '8th'}\n"
          ]
        }
      ]
    },
    {
      "cell_type": "code",
      "source": [
        "# Deleting a elements if it existing\n",
        "if \"Semester\" in student:\n",
        "  del student[\"Semester\"]\n",
        "print(student)"
      ],
      "metadata": {
        "colab": {
          "base_uri": "https://localhost:8080/"
        },
        "id": "mgCXp5ZCgy4J",
        "outputId": "581e20b0-a4a1-4729-c93a-63c2cb9a43f6"
      },
      "execution_count": null,
      "outputs": [
        {
          "output_type": "stream",
          "name": "stdout",
          "text": [
            "{'name': 'Bigen', \"'Department\": 'Bsc.IT', 'year': 2023}\n"
          ]
        }
      ]
    },
    {
      "cell_type": "code",
      "source": [
        "#Write a Python program that prints your name to the con\n",
        "print(\"My name is\")"
      ],
      "metadata": {
        "id": "KSBSxaTjhogV",
        "colab": {
          "base_uri": "https://localhost:8080/"
        },
        "outputId": "c8bd3c1e-c196-43a9-f094-95d1787a04a6"
      },
      "execution_count": null,
      "outputs": [
        {
          "output_type": "stream",
          "name": "stdout",
          "text": [
            "My name is\n"
          ]
        }
      ]
    },
    {
      "cell_type": "code",
      "source": [
        "#Create a Python script that takes two numbers as input from the user and prints their sum.\n",
        "x = 20\n",
        "y = 10\n",
        "print(x+y)\n"
      ],
      "metadata": {
        "colab": {
          "base_uri": "https://localhost:8080/"
        },
        "id": "rnrjKbIRnWH4",
        "outputId": "56132706-c0dc-4bb6-e4ff-cbf1f705433e"
      },
      "execution_count": null,
      "outputs": [
        {
          "output_type": "stream",
          "name": "stdout",
          "text": [
            "30\n"
          ]
        }
      ]
    },
    {
      "cell_type": "code",
      "source": [
        "#Write a Python program to calculate the area of a circle with a given radius.\n",
        "r = 20\n",
        "print(3.14*r*r)"
      ],
      "metadata": {
        "colab": {
          "base_uri": "https://localhost:8080/"
        },
        "id": "JsXtLatoyWcf",
        "outputId": "7b068b34-54fe-4f86-966d-60b3a7fe0f24"
      },
      "execution_count": null,
      "outputs": [
        {
          "output_type": "stream",
          "name": "stdout",
          "text": [
            "1256.0\n"
          ]
        }
      ]
    },
    {
      "cell_type": "code",
      "source": [
        "car_dict = dict(name=\"Ford\", model=\"Mustang\", year=1964)\n",
        "print(repr( car_dict))"
      ],
      "metadata": {
        "colab": {
          "base_uri": "https://localhost:8080/"
        },
        "id": "S9tMW-pcyn9w",
        "outputId": "71b72ca3-4f2b-4caf-f041-ddb572c86127"
      },
      "execution_count": null,
      "outputs": [
        {
          "output_type": "stream",
          "name": "stdout",
          "text": [
            "{'name': 'Ford', 'model': 'Mustang', 'year': 1964}\n"
          ]
        }
      ]
    },
    {
      "cell_type": "code",
      "source": [
        "# Boolean: Let's learn Boolean\n",
        "print(\"/nExample 1: Comparing Values:\")\n",
        "print(\"Is 100 is smaller than 200? \",100 < 200)\n",
        "print(\"Is 50 is equal to 100?\", 50==100)"
      ],
      "metadata": {
        "colab": {
          "base_uri": "https://localhost:8080/"
        },
        "id": "ygUs3V4a1BEA",
        "outputId": "0fe773d0-031e-40ab-f83e-773886f4a45f"
      },
      "execution_count": null,
      "outputs": [
        {
          "output_type": "stream",
          "name": "stdout",
          "text": [
            "/nExample 1: Comparing Values:\n",
            "Is 100 is smaller than 200?  True\n",
            "Is 50 is equal to 100? False\n"
          ]
        }
      ]
    },
    {
      "cell_type": "code",
      "source": [
        "# Example 2 : Find the greatest number among two\n",
        "x=50\n",
        "y=100\n",
        "if x>y:\n",
        "  print(f\"{x} is greater than {y}.\")\n",
        "else:\n",
        "  print(f\"{y} is greater than {x}.\")"
      ],
      "metadata": {
        "colab": {
          "base_uri": "https://localhost:8080/"
        },
        "id": "3iUgz7vb3FMA",
        "outputId": "f57a3e0f-d7b8-4c38-b49b-28ab3ff8d029"
      },
      "execution_count": null,
      "outputs": [
        {
          "output_type": "stream",
          "name": "stdout",
          "text": [
            "100 is greater than 50.\n"
          ]
        }
      ]
    },
    {
      "cell_type": "code",
      "source": [
        "#Evaluating values and variables\n",
        "print(\"Is 'Hello' True?\",bool(\"Hello\"))\n",
        "x=\"hii\"\n",
        "y=25\n",
        "print(\"Is x True?\",bool(x))\n",
        "print(\"Is y True?\",bool(y))"
      ],
      "metadata": {
        "colab": {
          "base_uri": "https://localhost:8080/"
        },
        "id": "jU6HJWop3XEf",
        "outputId": "61bbc7c3-4c35-4a33-fe16-a4c37723ea48"
      },
      "execution_count": null,
      "outputs": [
        {
          "output_type": "stream",
          "name": "stdout",
          "text": [
            "Is 'Hello' True? True\n",
            "Is x True? True\n",
            "Is y True? True\n"
          ]
        }
      ]
    },
    {
      "cell_type": "code",
      "source": [
        "# Let's practice function that returns boolean\n",
        "def is_even(x):\n",
        "   return num % 2 == 0\n",
        "   print(\"Is 20 is even?\",is_even(20))\n",
        "   print(\"Is 30 is even?\",is_even(30))"
      ],
      "metadata": {
        "id": "bKvsj4yB4exf"
      },
      "execution_count": null,
      "outputs": []
    },
    {
      "cell_type": "code",
      "source": [
        "# Tuples: Let's learn about tuples\n",
        "fav_movie = (\"The Shawshank Redemption\", \"The Godfather\", \"The Dark Knight\")\n",
        "print(fav_movie)"
      ],
      "metadata": {
        "colab": {
          "base_uri": "https://localhost:8080/"
        },
        "id": "G5oEghVI5dc8",
        "outputId": "310ce41d-3b9a-4c8a-de53-e2f5df4e4930"
      },
      "execution_count": null,
      "outputs": [
        {
          "output_type": "stream",
          "name": "stdout",
          "text": [
            "('The Shawshank Redemption', 'The Godfather', 'The Dark Knight')\n"
          ]
        }
      ]
    },
    {
      "cell_type": "code",
      "source": [
        "# Accessing the fav movie\n",
        "print(\"pramit fav mlovie is\", fav_movie[0])\n",
        "print(\"shyam fav movie is\", fav_movie[-1])"
      ],
      "metadata": {
        "colab": {
          "base_uri": "https://localhost:8080/"
        },
        "id": "OiC_DHqL6BYH",
        "outputId": "faa8ac08-4167-48b0-e2a7-5110b8fef7c5"
      },
      "execution_count": null,
      "outputs": [
        {
          "output_type": "stream",
          "name": "stdout",
          "text": [
            "pramit fav mlovie is The Shawshank Redemption\n",
            "shyam fav movie is The Dark Knight\n"
          ]
        }
      ]
    },
    {
      "cell_type": "code",
      "source": [
        "x,y,z = fav_movie\n",
        "print(\"seprate Movie:\", x,y,z)\n"
      ],
      "metadata": {
        "colab": {
          "base_uri": "https://localhost:8080/"
        },
        "id": "vyf-FWMc6dln",
        "outputId": "f4fa8ee9-99fb-4d9f-f4a6-a4dc3afa648d"
      },
      "execution_count": null,
      "outputs": [
        {
          "output_type": "stream",
          "name": "stdout",
          "text": [
            "seprate Movie: The Shawshank Redemption The Godfather The Dark Knight\n"
          ]
        }
      ]
    },
    {
      "cell_type": "code",
      "source": [
        "for movie in fav_movie:\n",
        "  print(movie)"
      ],
      "metadata": {
        "colab": {
          "base_uri": "https://localhost:8080/"
        },
        "id": "7a-A_Upb6k7m",
        "outputId": "05c692db-8d9f-4bb6-c946-ddefd5999a4e"
      },
      "execution_count": null,
      "outputs": [
        {
          "output_type": "stream",
          "name": "stdout",
          "text": [
            "The Shawshank Redemption\n",
            "The Godfather\n",
            "The Dark Knight\n"
          ]
        }
      ]
    },
    {
      "cell_type": "code",
      "source": [
        "# joining the two tupples\n",
        "first_tuple = (\"apple\", \"banana\", \"cherry\")\n",
        "second_tuple = (1, 5, 7, 9, 3)\n",
        "joioned = first_tuple + second_tuple\n",
        "print(joioned)\n",
        "print(first_tuple + second_tuple)"
      ],
      "metadata": {
        "colab": {
          "base_uri": "https://localhost:8080/"
        },
        "id": "5bmcug0n64vS",
        "outputId": "5f6c0a3a-85a3-4c96-84c8-39d373101edb"
      },
      "execution_count": null,
      "outputs": [
        {
          "output_type": "stream",
          "name": "stdout",
          "text": [
            "('apple', 'banana', 'cherry', 1, 5, 7, 9, 3)\n",
            "('apple', 'banana', 'cherry', 1, 5, 7, 9, 3)\n"
          ]
        }
      ]
    },
    {
      "cell_type": "code",
      "source": [
        "# Sets: Let's learn about sets\n",
        "my_set = {\"apple\", \"banana\", \"cherry\"}\n",
        "print(my_set)"
      ],
      "metadata": {
        "colab": {
          "base_uri": "https://localhost:8080/"
        },
        "id": "86cChrks7E09",
        "outputId": "fb0b2969-abe7-4524-f229-f2d81c81039a"
      },
      "execution_count": null,
      "outputs": [
        {
          "output_type": "stream",
          "name": "stdout",
          "text": [
            "{'apple', 'banana', 'cherry'}\n"
          ]
        }
      ]
    },
    {
      "cell_type": "code",
      "source": [
        "# Adding a new fruit to our set\n",
        "my_set.add(\"orange\")\n",
        "print(my_set)"
      ],
      "metadata": {
        "colab": {
          "base_uri": "https://localhost:8080/"
        },
        "id": "Ltqg9JSl7vWd",
        "outputId": "364900c0-32ea-454e-9938-74ad2c11dba6"
      },
      "execution_count": null,
      "outputs": [
        {
          "output_type": "stream",
          "name": "stdout",
          "text": [
            "{'apple', 'banana', 'orange', 'cherry'}\n"
          ]
        }
      ]
    },
    {
      "cell_type": "code",
      "source": [
        "#updating our sets\n",
        "my_set.update([\"mango\", \"grapes\"])\n",
        "print(my_set)"
      ],
      "metadata": {
        "colab": {
          "base_uri": "https://localhost:8080/"
        },
        "id": "xUGkZYtR75uT",
        "outputId": "2ab9e600-6e72-4b7f-d680-fac914f80d4b"
      },
      "execution_count": null,
      "outputs": [
        {
          "output_type": "stream",
          "name": "stdout",
          "text": [
            "{'banana', 'mango', 'cherry', 'grapes', 'apple', 'orange'}\n"
          ]
        }
      ]
    },
    {
      "cell_type": "code",
      "source": [
        "# remove the fruits from sets\n",
        "my_set.remove(\"banana\")\n",
        "print(my_set)"
      ],
      "metadata": {
        "colab": {
          "base_uri": "https://localhost:8080/"
        },
        "id": "hgCWS-nC8RW2",
        "outputId": "cb124aa4-35a7-4516-a1fb-82defc0e3168"
      },
      "execution_count": null,
      "outputs": [
        {
          "output_type": "stream",
          "name": "stdout",
          "text": [
            "{'mango', 'cherry', 'grapes', 'apple', 'orange'}\n"
          ]
        }
      ]
    },
    {
      "cell_type": "code",
      "source": [
        "#  Conditional statements\n",
        "#b Finding the greatest number among three\n",
        "a=10\n",
        "b=20\n",
        "c=30\n",
        "if a>=b and a>=c:\n",
        "  print(f\"{a} is greatest number\")\n",
        "elif b>=a and b>=c:\n",
        "  print(f\"{b} is greatest number\")\n",
        "else:\n",
        "  print(f\"{c} is greatest number\")"
      ],
      "metadata": {
        "colab": {
          "base_uri": "https://localhost:8080/"
        },
        "id": "ijIprRyW8lhS",
        "outputId": "1a3119d7-4e20-4023-a524-2867d77562e5"
      },
      "execution_count": null,
      "outputs": [
        {
          "output_type": "stream",
          "name": "stdout",
          "text": [
            "30 is greatest number\n"
          ]
        }
      ]
    },
    {
      "cell_type": "code",
      "source": [
        "# Leap Year\n",
        "year = 2024\n",
        "if (year % 4 == 0) and (year % 100 != 0) or (year % 400 == 0):\n",
        "  print( \"a leap year\")"
      ],
      "metadata": {
        "colab": {
          "base_uri": "https://localhost:8080/"
        },
        "id": "dS7EG45f-HD6",
        "outputId": "024e7e97-a677-490a-e675-e04f757f79ee"
      },
      "execution_count": null,
      "outputs": [
        {
          "output_type": "stream",
          "name": "stdout",
          "text": [
            "a leap year\n"
          ]
        }
      ]
    },
    {
      "cell_type": "code",
      "source": [
        "# Determining the season based on the month\n",
        "month  = \"may\"\n",
        "if month in (\"march\", \"april\", \"may\"):\n",
        "  print(\"spring\")\n",
        "elif month in (\"june\", \"july\", \"august\"):\n",
        "  print(\"summer\")\n"
      ],
      "metadata": {
        "colab": {
          "base_uri": "https://localhost:8080/"
        },
        "id": "sD9CUW1X_AOY",
        "outputId": "0d10e0c6-a1af-4851-8dec-60992dda6737"
      },
      "execution_count": null,
      "outputs": [
        {
          "output_type": "stream",
          "name": "stdout",
          "text": [
            "spring\n"
          ]
        }
      ]
    },
    {
      "cell_type": "code",
      "source": [
        "# Write a Python script that prints a welcome message along with the current date and time.\n",
        "# Print a welcome message with the current date and time\n",
        "import datetime\n",
        "print(\"Welcome! Today's date and time is:\", datetime.datetime.now())"
      ],
      "metadata": {
        "id": "1cCN3FXAAiH1",
        "colab": {
          "base_uri": "https://localhost:8080/"
        },
        "outputId": "e93778bc-313d-45bc-85b3-6eaaf190122d"
      },
      "execution_count": null,
      "outputs": [
        {
          "output_type": "stream",
          "name": "stdout",
          "text": [
            "Welcome! Today's date and time is: 2024-05-14 01:22:52.957465\n"
          ]
        }
      ]
    },
    {
      "cell_type": "code",
      "source": [
        "# Print a series of numbers from 1 to 10, each on a new line.\n",
        "# Print numbers from 1 to 10\n",
        "for i in range(1, 11):\n",
        "    print(i)"
      ],
      "metadata": {
        "colab": {
          "base_uri": "https://localhost:8080/"
        },
        "id": "tfusPezuscFf",
        "outputId": "f88241ae-087e-48d1-93f7-7dfa17803112"
      },
      "execution_count": null,
      "outputs": [
        {
          "output_type": "stream",
          "name": "stdout",
          "text": [
            "1\n",
            "2\n",
            "3\n",
            "4\n",
            "5\n",
            "6\n",
            "7\n",
            "8\n",
            "9\n",
            "10\n"
          ]
        }
      ]
    },
    {
      "cell_type": "code",
      "source": [
        "# Create variables to store the following information: name (string), age (integer), height (float), and is_student (boolean).\n",
        "# Creating variables of different data types\n",
        "name = \"John\"\n",
        "age = 25\n",
        "height = 6.1\n",
        "is_student = True"
      ],
      "metadata": {
        "id": "PcxfUxsIsgB3"
      },
      "execution_count": null,
      "outputs": []
    },
    {
      "cell_type": "code",
      "source": [
        "# Convert a string variable containing a numerical value to an integer or float data type.\n",
        "# Converting string variable to integer or float\n",
        "str_num = \"10\"\n",
        "int_num = int(str_num)\n",
        "float_num = float(str_num)"
      ],
      "metadata": {
        "id": "VL57FxHAsjtx"
      },
      "execution_count": null,
      "outputs": []
    },
    {
      "cell_type": "code",
      "source": [
        "# Convert an integer variable to a string data type.\n",
        "# Converting integer variable to string\n",
        "int_value = 123\n",
        "str_value = str(int_value)"
      ],
      "metadata": {
        "id": "N4UShpr9snpx"
      },
      "execution_count": null,
      "outputs": []
    },
    {
      "cell_type": "code",
      "source": [
        "# Perform arithmetic operations (addition, subtraction, multiplication, division) on numerical variables.\n",
        "import math\n",
        "\n",
        "# Arithmetic operations\n",
        "result_add = 5 + 3\n",
        "result_sub = 7 - 2\n",
        "result_mul = 4 * 6\n",
        "result_div = 10 / 2"
      ],
      "metadata": {
        "id": "IK5dliQwsrc4"
      },
      "execution_count": null,
      "outputs": []
    },
    {
      "cell_type": "code",
      "source": [
        "# Calculate the square root of a number.\n",
        "# Square root\n",
        "sqrt_value = math.sqrt(25)\n",
        "print(sqrt_value)"
      ],
      "metadata": {
        "colab": {
          "base_uri": "https://localhost:8080/"
        },
        "id": "UP9vth1psu4j",
        "outputId": "0d64f2c8-d6c2-4e05-f3ee-c3ae8be55444"
      },
      "execution_count": null,
      "outputs": [
        {
          "output_type": "stream",
          "name": "stdout",
          "text": [
            "5.0\n"
          ]
        }
      ]
    },
    {
      "cell_type": "code",
      "source": [
        "# Use the math module to perform more advanced mathematical operations like calculating logarithms or trigonometric functions.\n",
        "import math\n",
        "\n",
        "# Calculate the natural logarithm (base e) of a number\n",
        "x = 10\n",
        "log_value = math.log(x)\n",
        "print(\"Natural logarithm of\", x, \":\", log_value)\n",
        "\n",
        "# Calculate the logarithm of a number with a specified base (e.g., base 10)\n",
        "log_base_10 = math.log10(x)\n",
        "print(\"Logarithm base 10 of\", x, \":\", log_base_10)\n",
        "\n",
        "# Calculate the logarithm of a number with a specified base (e.g., base 2)\n",
        "log_base_2 = math.log2(x)\n",
        "print(\"Logarithm base 2 of\", x, \":\", log_base_2)\n",
        "\n",
        "# Calculate trigonometric functions (sine, cosine, tangent) in radians\n",
        "angle_radians = math.radians(45)  # Convert angle from degrees to radians\n",
        "sin_value = math.sin(angle_radians)\n",
        "cos_value = math.cos(angle_radians)\n",
        "tan_value = math.tan(angle_radians)\n",
        "print(\"Sine of 45 degrees:\", sin_value)\n",
        "print(\"Cosine of 45 degrees:\", cos_value)\n",
        "print(\"Tangent of 45 degrees:\", tan_value)"
      ],
      "metadata": {
        "colab": {
          "base_uri": "https://localhost:8080/"
        },
        "id": "gl9D0s8cs2cH",
        "outputId": "e8d44bda-ad45-4137-c9d8-6988c1f984c2"
      },
      "execution_count": null,
      "outputs": [
        {
          "output_type": "stream",
          "name": "stdout",
          "text": [
            "Natural logarithm of 10 : 2.302585092994046\n",
            "Logarithm base 10 of 10 : 1.0\n",
            "Logarithm base 2 of 10 : 3.321928094887362\n",
            "Sine of 45 degrees: 0.7071067811865475\n",
            "Cosine of 45 degrees: 0.7071067811865476\n",
            "Tangent of 45 degrees: 0.9999999999999999\n"
          ]
        }
      ]
    },
    {
      "cell_type": "code",
      "source": [
        "# While loop to calculate factorial\n",
        "num = int(input(\"Enter a number: \"))\n",
        "factorial = 1\n",
        "while num > 0:\n",
        "    factorial *= num\n",
        "    num -= 1\n",
        "print(\"Factorial:\", factorial)"
      ],
      "metadata": {
        "colab": {
          "base_uri": "https://localhost:8080/"
        },
        "id": "29AtjyJ6s_NE",
        "outputId": "f07bf056-555b-4116-f58e-9ad16d76a5db"
      },
      "execution_count": null,
      "outputs": [
        {
          "output_type": "stream",
          "name": "stdout",
          "text": [
            "Enter a number: 2\n",
            "Factorial: 2\n"
          ]
        }
      ]
    },
    {
      "cell_type": "code",
      "source": [
        "#Loops: Let's lwearn\n",
        "multiple_of_five = [5,10,15,20,25]\n",
        "print(\"\\nmultiple_of_five\")\n",
        "for num in multiple_of_five:\n",
        "  print(num)"
      ],
      "metadata": {
        "id": "EFgrGMVLtKFs",
        "colab": {
          "base_uri": "https://localhost:8080/"
        },
        "outputId": "fe6a2b34-5d53-4216-bd72-624982a0f06c"
      },
      "execution_count": null,
      "outputs": [
        {
          "output_type": "stream",
          "name": "stdout",
          "text": [
            "\n",
            "multiple_of_five\n",
            "5\n",
            "10\n",
            "15\n",
            "20\n",
            "25\n"
          ]
        }
      ]
    },
    {
      "cell_type": "code",
      "source": [
        "# let's work with string\n",
        "string = \"Hi i am Learning Python\"\n",
        "for char in string:\n",
        "  print(char)"
      ],
      "metadata": {
        "colab": {
          "base_uri": "https://localhost:8080/"
        },
        "id": "u0xXJv7I9DL7",
        "outputId": "9c41287e-01de-4e19-917e-a3a604307065"
      },
      "execution_count": null,
      "outputs": [
        {
          "output_type": "stream",
          "name": "stdout",
          "text": [
            "H\n",
            "i\n",
            " \n",
            "i\n",
            " \n",
            "a\n",
            "m\n",
            " \n",
            "L\n",
            "e\n",
            "a\n",
            "r\n",
            "n\n",
            "i\n",
            "n\n",
            "g\n",
            " \n",
            "P\n",
            "y\n",
            "t\n",
            "h\n",
            "o\n",
            "n\n"
          ]
        }
      ]
    },
    {
      "cell_type": "code",
      "source": [
        "#Let's range\n",
        "for i in range(1, 11):\n",
        "    print(i)"
      ],
      "metadata": {
        "colab": {
          "base_uri": "https://localhost:8080/"
        },
        "id": "YZfKJ78S-TvU",
        "outputId": "91c7e5a9-695f-40bf-bbd3-23494c823514"
      },
      "execution_count": null,
      "outputs": [
        {
          "output_type": "stream",
          "name": "stdout",
          "text": [
            "1\n",
            "2\n",
            "3\n",
            "4\n",
            "5\n",
            "6\n",
            "7\n",
            "8\n",
            "9\n",
            "10\n"
          ]
        }
      ]
    },
    {
      "cell_type": "code",
      "source": [
        "# Even number from 1 to 10\n",
        "for i in range(2, 11, 2):\n",
        "    print(i)\n"
      ],
      "metadata": {
        "colab": {
          "base_uri": "https://localhost:8080/"
        },
        "id": "9EAvPHgE-7SN",
        "outputId": "f4a108f5-0ed1-41e9-bfc4-cf91791f738d"
      },
      "execution_count": null,
      "outputs": [
        {
          "output_type": "stream",
          "name": "stdout",
          "text": [
            "2\n",
            "4\n",
            "6\n",
            "8\n",
            "10\n"
          ]
        }
      ]
    },
    {
      "cell_type": "code",
      "source": [
        "# Odd number from 1 to 10\n",
        "for i in range(1, 11, 2):\n",
        "  for i in range (20,11,2):\n",
        "    print(i)"
      ],
      "metadata": {
        "id": "YBDaw4d-_VU_"
      },
      "execution_count": null,
      "outputs": []
    },
    {
      "cell_type": "code",
      "source": [
        "# Odd number from 1 to 10\n",
        "for i in range(1, 11, 2):\n",
        "  for i in range (20,11,2):\n",
        "    print(i)"
      ],
      "metadata": {
        "id": "ZoCNj-zk_uUJ"
      },
      "execution_count": null,
      "outputs": []
    },
    {
      "cell_type": "code",
      "source": [
        "# lety's use dictionary\n",
        "fav_movie = {\n",
        "    \"name\": \"The Shawshank Redemption\",\n",
        "    \"year\": 1994,\n",
        "    \"director\": \"Frank Darabont\"\n",
        "}\n",
        "for key, value in fav_movie.items():\n",
        "    print(key, \":\", value)\n"
      ],
      "metadata": {
        "colab": {
          "base_uri": "https://localhost:8080/"
        },
        "id": "vcl2KriTAETL",
        "outputId": "1d786a61-f6f1-43e7-b483-6914bf0f1a51"
      },
      "execution_count": null,
      "outputs": [
        {
          "output_type": "stream",
          "name": "stdout",
          "text": [
            "name : The Shawshank Redemption\n",
            "year : 1994\n",
            "director : Frank Darabont\n"
          ]
        }
      ]
    },
    {
      "cell_type": "code",
      "source": [
        "# Let's learn loop with tuple\n",
        "fruits = ((\"apple\",10), (\"banana\",10), (\"cherry\",10))\n",
        "print(\"\\nElements of fruits Tuple\")\n",
        "for item in fruits:\n",
        "  print(item)"
      ],
      "metadata": {
        "colab": {
          "base_uri": "https://localhost:8080/"
        },
        "id": "Rood8ESLBPmK",
        "outputId": "c1b79869-07ba-44b0-ea37-4d958d5fdc68"
      },
      "execution_count": null,
      "outputs": [
        {
          "output_type": "stream",
          "name": "stdout",
          "text": [
            "\n",
            "Elements of fruits Tuple\n",
            "('apple', 10)\n",
            "('banana', 10)\n",
            "('cherry', 10)\n"
          ]
        }
      ]
    },
    {
      "cell_type": "code",
      "source": [
        "# Let's seprate each element from tuple fruits:\n",
        "for char, num in fruits:\n",
        "  print(\"Character:\", char, \"| Quantity:\", num)\n"
      ],
      "metadata": {
        "colab": {
          "base_uri": "https://localhost:8080/"
        },
        "id": "zglS6NsbCQi9",
        "outputId": "1d88f5f7-0f6d-41d8-fb3c-49d0f2fe746c"
      },
      "execution_count": null,
      "outputs": [
        {
          "output_type": "stream",
          "name": "stdout",
          "text": [
            "Character: apple | Quantity: 10\n",
            "Character: banana | Quantity: 10\n",
            "Character: cherry | Quantity: 10\n"
          ]
        }
      ]
    },
    {
      "cell_type": "code",
      "source": [
        "# Let's learn while loop\n",
        "count = 1\n",
        "while count <= 5:\n",
        "    print(count)\n",
        "    count += 1"
      ],
      "metadata": {
        "colab": {
          "base_uri": "https://localhost:8080/"
        },
        "id": "aHvx3-yWCoEN",
        "outputId": "09f2d2c8-8a77-42b4-e9de-775799fc13e6"
      },
      "execution_count": null,
      "outputs": [
        {
          "output_type": "stream",
          "name": "stdout",
          "text": [
            "1\n",
            "2\n",
            "3\n",
            "4\n",
            "5\n"
          ]
        }
      ]
    },
    {
      "cell_type": "code",
      "source": [
        "# Find the sum of number 1-10 using  ehile loops\n",
        "sum = 0\n",
        "num = 1\n",
        "while num <= 10:\n",
        "    sum += num\n",
        "    num += 1\n",
        "print(\"\\nThe sum of number from 1-10 is:\", sum)"
      ],
      "metadata": {
        "colab": {
          "base_uri": "https://localhost:8080/"
        },
        "id": "co-EpxVaDf94",
        "outputId": "adec364b-0a4e-4280-d653-ddcafbc35f13"
      },
      "execution_count": null,
      "outputs": [
        {
          "output_type": "stream",
          "name": "stdout",
          "text": [
            "\n",
            "The sum of number from 1-10 is: 55\n"
          ]
        }
      ]
    },
    {
      "cell_type": "code",
      "source": [
        "# Find the sum of number from 1 to 10 evenm number only\n",
        "sum = 0\n",
        "num = 1\n",
        "while num <= 10:\n",
        "    if num % 2 == 0:\n",
        "        sum += num\n",
        "    num += 1\n",
        "print(\"\\nThe sum of even number from 1-10 is:\", sum)"
      ],
      "metadata": {
        "colab": {
          "base_uri": "https://localhost:8080/"
        },
        "id": "7K0fuNwkEhLe",
        "outputId": "29e0cf65-cbce-428d-8c31-2bff73ef73e6"
      },
      "execution_count": null,
      "outputs": [
        {
          "output_type": "stream",
          "name": "stdout",
          "text": [
            "\n",
            "The sum of even number from 1-10 is: 30\n"
          ]
        }
      ]
    },
    {
      "cell_type": "code",
      "source": [
        "# Find the even number from 1 to 10 using while loop\n",
        "num = 1\n",
        "while num <= 10:\n",
        "    if num % 2 == 0:\n",
        "        print(num)\n",
        "    num += 1"
      ],
      "metadata": {
        "colab": {
          "base_uri": "https://localhost:8080/"
        },
        "id": "d4s006ODEubZ",
        "outputId": "538e0c6c-9e47-4a44-8070-d44945cb1c49"
      },
      "execution_count": null,
      "outputs": [
        {
          "output_type": "stream",
          "name": "stdout",
          "text": [
            "2\n",
            "4\n",
            "6\n",
            "8\n",
            "10\n"
          ]
        }
      ]
    },
    {
      "cell_type": "code",
      "source": [
        "# Find the odd number from 1 to 10 using while loop\n",
        "num = 1\n",
        "while num <= 10:\n",
        "    if num % 2 != 0:\n",
        "        print(num)\n",
        "    num += 1"
      ],
      "metadata": {
        "colab": {
          "base_uri": "https://localhost:8080/"
        },
        "id": "nR3sJEycFEdk",
        "outputId": "876bf418-9c95-422a-d60c-8d495a8af42a"
      },
      "execution_count": null,
      "outputs": [
        {
          "output_type": "stream",
          "name": "stdout",
          "text": [
            "1\n",
            "3\n",
            "5\n",
            "7\n",
            "9\n"
          ]
        }
      ]
    },
    {
      "cell_type": "code",
      "source": [
        "# Find the factorial of 5 using while loop\n",
        "num = 5\n",
        "factorial = 5\n",
        "while num >= 1:\n",
        "    factorial *= num\n",
        "    num += 1\n",
        "print(\"\\nThe factorial of 5 is:\", factorial)"
      ],
      "metadata": {
        "id": "s8tgmkrzFhJF"
      },
      "execution_count": null,
      "outputs": []
    },
    {
      "cell_type": "code",
      "source": [
        "# Find the factorial of 5 using while loop\n",
        "num = 5\n",
        "factorial = 5\n",
        "while num >= 1:\n",
        "    factorial *= num\n",
        "    num += 1\n",
        "print(\"\\nThe factorial of 5 is:\", factorial)"
      ],
      "metadata": {
        "id": "ysPBOB1aGFgd"
      },
      "execution_count": null,
      "outputs": []
    },
    {
      "cell_type": "code",
      "source": [
        "# Find the factorial of 5 using while loop\n",
        "number = 5\n",
        "factorial = 1\n",
        "while number >= 0:\n",
        "    factorial *= number\n",
        "    number += 1\n",
        "print(\"\\nThe factorial of 5 is:\", factorial)"
      ],
      "metadata": {
        "id": "UIspOEqHGrGt"
      },
      "execution_count": null,
      "outputs": []
    },
    {
      "cell_type": "code",
      "source": [
        "# Find the factorial of 5 using while loop\n",
        "number = 5\n",
        "factorial = 1\n",
        "while number >= 0:\n",
        "    factorial *= number\n",
        "    number += 1\n",
        "print(\"\\nThe factorial of 5 is:\", factorial)"
      ],
      "metadata": {
        "id": "BespzQiyHK6a",
        "colab": {
          "base_uri": "https://localhost:8080/",
          "height": 211
        },
        "outputId": "48c80ecc-cef0-42e8-e660-15fb2462bbd0"
      },
      "execution_count": null,
      "outputs": [
        {
          "output_type": "error",
          "ename": "KeyboardInterrupt",
          "evalue": "",
          "traceback": [
            "\u001b[0;31m---------------------------------------------------------------------------\u001b[0m",
            "\u001b[0;31mKeyboardInterrupt\u001b[0m                         Traceback (most recent call last)",
            "\u001b[0;32m<ipython-input-3-906f3a3aef9e>\u001b[0m in \u001b[0;36m<cell line: 4>\u001b[0;34m()\u001b[0m\n\u001b[1;32m      3\u001b[0m \u001b[0mfactorial\u001b[0m \u001b[0;34m=\u001b[0m \u001b[0;36m1\u001b[0m\u001b[0;34m\u001b[0m\u001b[0;34m\u001b[0m\u001b[0m\n\u001b[1;32m      4\u001b[0m \u001b[0;32mwhile\u001b[0m \u001b[0mnumber\u001b[0m \u001b[0;34m>=\u001b[0m \u001b[0;36m0\u001b[0m\u001b[0;34m:\u001b[0m\u001b[0;34m\u001b[0m\u001b[0;34m\u001b[0m\u001b[0m\n\u001b[0;32m----> 5\u001b[0;31m     \u001b[0mfactorial\u001b[0m \u001b[0;34m*=\u001b[0m \u001b[0mnumber\u001b[0m\u001b[0;34m\u001b[0m\u001b[0;34m\u001b[0m\u001b[0m\n\u001b[0m\u001b[1;32m      6\u001b[0m     \u001b[0mnumber\u001b[0m \u001b[0;34m+=\u001b[0m \u001b[0;36m1\u001b[0m\u001b[0;34m\u001b[0m\u001b[0;34m\u001b[0m\u001b[0m\n\u001b[1;32m      7\u001b[0m \u001b[0mprint\u001b[0m\u001b[0;34m(\u001b[0m\u001b[0;34m\"\\nThe factorial of 5 is:\"\u001b[0m\u001b[0;34m,\u001b[0m \u001b[0mfactorial\u001b[0m\u001b[0;34m)\u001b[0m\u001b[0;34m\u001b[0m\u001b[0;34m\u001b[0m\u001b[0m\n",
            "\u001b[0;31mKeyboardInterrupt\u001b[0m: "
          ]
        }
      ]
    },
    {
      "cell_type": "code",
      "source": [
        "# Reverse the sting using while loop\n",
        "string = \"Flimy\"\n",
        "reversed_string = \"\"\n",
        "while len(string) > 0:\n",
        "    reversed_string += string[-1]\n",
        "    string = string[:-1]\n",
        "print(\"\\nThe reversed string is:\", reversed_string)"
      ],
      "metadata": {
        "id": "F-dkTm2RHVCL",
        "colab": {
          "base_uri": "https://localhost:8080/"
        },
        "outputId": "f460f7aa-4052-42c1-9ce3-2a9f16b92a0e"
      },
      "execution_count": null,
      "outputs": [
        {
          "output_type": "stream",
          "name": "stdout",
          "text": [
            "\n",
            "The reversed string is: ymilF\n"
          ]
        }
      ]
    },
    {
      "cell_type": "code",
      "source": [
        "# Function\n",
        "def greet():\n",
        "  print(\"Hello, World!\")\n",
        "greet()"
      ],
      "metadata": {
        "id": "k6MuaDrFHq_C",
        "colab": {
          "base_uri": "https://localhost:8080/"
        },
        "outputId": "45434a55-ebdf-4977-b3f9-e267f88e2ab0"
      },
      "execution_count": null,
      "outputs": [
        {
          "output_type": "stream",
          "name": "stdout",
          "text": [
            "Hello, World!\n"
          ]
        }
      ]
    },
    {
      "cell_type": "code",
      "source": [
        "# Functions with parameters\n",
        "def greet(name):\n",
        "  print(\"Hello\",  name)\n",
        "greet(\"Alice\")\n",
        "greet(\"Bata\")\n"
      ],
      "metadata": {
        "id": "NxUFwomTH2-2",
        "colab": {
          "base_uri": "https://localhost:8080/"
        },
        "outputId": "97844292-89d9-494b-ad0b-73b82bb048d0"
      },
      "execution_count": null,
      "outputs": [
        {
          "output_type": "stream",
          "name": "stdout",
          "text": [
            "Hello Alice\n",
            "Hello Bata\n"
          ]
        }
      ]
    },
    {
      "cell_type": "code",
      "source": [
        "#function with return value\n",
        "def square(a):\n",
        "  return a ** 2\n",
        "  result = square(5)\n",
        "print(result)"
      ],
      "metadata": {
        "colab": {
          "base_uri": "https://localhost:8080/",
          "height": 176
        },
        "id": "gJ2GBBY4GkKv",
        "outputId": "8930b726-68ab-4fa1-d85c-97bb2fd3d9ea"
      },
      "execution_count": null,
      "outputs": [
        {
          "output_type": "error",
          "ename": "NameError",
          "evalue": "name 'result' is not defined",
          "traceback": [
            "\u001b[0;31m---------------------------------------------------------------------------\u001b[0m",
            "\u001b[0;31mNameError\u001b[0m                                 Traceback (most recent call last)",
            "\u001b[0;32m<ipython-input-11-4e233d4835ef>\u001b[0m in \u001b[0;36m<cell line: 5>\u001b[0;34m()\u001b[0m\n\u001b[1;32m      3\u001b[0m   \u001b[0;32mreturn\u001b[0m \u001b[0ma\u001b[0m \u001b[0;34m**\u001b[0m \u001b[0;36m2\u001b[0m\u001b[0;34m\u001b[0m\u001b[0;34m\u001b[0m\u001b[0m\n\u001b[1;32m      4\u001b[0m   \u001b[0mresult\u001b[0m \u001b[0;34m=\u001b[0m \u001b[0msquare\u001b[0m\u001b[0;34m(\u001b[0m\u001b[0;36m5\u001b[0m\u001b[0;34m)\u001b[0m\u001b[0;34m\u001b[0m\u001b[0;34m\u001b[0m\u001b[0m\n\u001b[0;32m----> 5\u001b[0;31m \u001b[0mprint\u001b[0m\u001b[0;34m(\u001b[0m\u001b[0mresult\u001b[0m\u001b[0;34m)\u001b[0m\u001b[0;34m\u001b[0m\u001b[0;34m\u001b[0m\u001b[0m\n\u001b[0m",
            "\u001b[0;31mNameError\u001b[0m: name 'result' is not defined"
          ]
        }
      ]
    },
    {
      "cell_type": "code",
      "source": [
        "# Function with defult parameter value\n",
        "def greet_with_default(name=\"World\"):\n",
        "  print(\"Hello\", name)\n",
        "greet_with_default\n",
        "greet_with_default(name=\"Alice\")"
      ],
      "metadata": {
        "colab": {
          "base_uri": "https://localhost:8080/"
        },
        "id": "3Bx56C6lHV19",
        "outputId": "31f6b57c-0bed-4939-a69a-250b824029d0"
      },
      "execution_count": null,
      "outputs": [
        {
          "output_type": "stream",
          "name": "stdout",
          "text": [
            "Hello Alice\n"
          ]
        }
      ]
    },
    {
      "cell_type": "code",
      "source": [
        "#function with multiple values Find the min and max number\n",
        "def min_max(numbers):\n",
        "  return min(numbers), max(numbers)\n",
        "  num = [1, 2, 3, 4, 5]"
      ],
      "metadata": {
        "id": "aYPUKLCVHy83"
      },
      "execution_count": null,
      "outputs": []
    },
    {
      "cell_type": "code",
      "source": [],
      "metadata": {
        "id": "KZ5NBsjFIWUc"
      },
      "execution_count": null,
      "outputs": []
    }
  ]
}